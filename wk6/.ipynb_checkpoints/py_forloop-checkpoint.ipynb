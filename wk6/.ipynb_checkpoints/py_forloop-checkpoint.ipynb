{
 "cells": [
  {
   "cell_type": "markdown",
   "metadata": {},
   "source": [
    "# Robbie Tovar\n",
    "## Week 6 9/24-9/26\n",
    "### forloops "
   ]
  },
  {
   "cell_type": "code",
   "execution_count": 1,
   "metadata": {},
   "outputs": [
    {
     "name": "stdout",
     "output_type": "stream",
     "text": [
      "ratio 0.2 red \n",
      "ratio 0.3 green \n",
      "ratio 0.4 blue \n",
      "ratio 0.1 purple \n"
     ]
    }
   ],
   "source": [
    "#what we should do if we need to loop over multople colelctions\n",
    "colors = ['red', 'green', 'blue', 'purple']\n",
    "ratios = [0.2,0.3,0.4,0.1]\n",
    "for index, value in enumerate(colors):\n",
    "    print(f'ratio {ratios[index]} {value} ')"
   ]
  },
  {
   "cell_type": "code",
   "execution_count": 8,
   "metadata": {},
   "outputs": [
    {
     "name": "stdout",
     "output_type": "stream",
     "text": [
      "ratio 20.0% color: red \n",
      "ratio 30.0% color: green \n",
      "ratio 40.0% color: blue \n",
      "ratio 10.0% color: purple \n"
     ]
    }
   ],
   "source": [
    "#what we should do if we need to loop over multople colelctions\n",
    "colors = ['red', 'green', 'blue', 'purple']\n",
    "ratios = [0.2,0.3,0.4,0.1]\n",
    "for index, value in enumerate(colors):\n",
    "    print(f'ratio {ratios[index]*100}% color: {value} ')"
   ]
  },
  {
   "cell_type": "code",
   "execution_count": 10,
   "metadata": {},
   "outputs": [
    {
     "name": "stdout",
     "output_type": "stream",
     "text": [
      "(0, 'red')\n",
      "(1, 'green')\n",
      "(2, 'blue')\n",
      "(3, 'purple')\n"
     ]
    }
   ],
   "source": [
    "for v in enumerate(colors):\n",
    "    print(v)"
   ]
  },
  {
   "cell_type": "code",
   "execution_count": 3,
   "metadata": {},
   "outputs": [
    {
     "data": {
      "text/plain": [
       "range(0, 4)"
      ]
     },
     "execution_count": 3,
     "metadata": {},
     "output_type": "execute_result"
    }
   ],
   "source": [
    "# using range()\n",
    "range(len(colors))"
   ]
  },
  {
   "cell_type": "code",
   "execution_count": 6,
   "metadata": {},
   "outputs": [
    {
     "name": "stdout",
     "output_type": "stream",
     "text": [
      "ratio: 20% color: red\n",
      "ratio: 30% color: green\n",
      "ratio: 40% color: blue\n",
      "ratio: 10% color: purple\n"
     ]
    }
   ],
   "source": [
    "for index in range(len(colors)):\n",
    "    print(f'ratio: {int(ratios[index]*100)}% color: {colors[index]}')"
   ]
  },
  {
   "cell_type": "code",
   "execution_count": 7,
   "metadata": {},
   "outputs": [
    {
     "data": {
      "text/plain": [
       "[(0.2, 'red'), (0.3, 'green'), (0.4, 'blue'), (0.1, 'purple')]"
      ]
     },
     "execution_count": 7,
     "metadata": {},
     "output_type": "execute_result"
    }
   ],
   "source": [
    "# using zip() \n",
    "list(zip(ratios,colors))"
   ]
  },
  {
   "cell_type": "code",
   "execution_count": 12,
   "metadata": {},
   "outputs": [
    {
     "name": "stdout",
     "output_type": "stream",
     "text": [
      "ratio: 20% color: red\n",
      "ratio: 30% color: green\n",
      "ratio: 40% color: blue\n",
      "ratio: 10% color: purple\n"
     ]
    }
   ],
   "source": [
    "for ratio,color in zip(ratios,colors):\n",
    "    print(f'ratio: {int(ratio*100)}% color: {color}')"
   ]
  },
  {
   "cell_type": "code",
   "execution_count": null,
   "metadata": {},
   "outputs": [],
   "source": []
  }
 ],
 "metadata": {
  "kernelspec": {
   "display_name": "Python 3.7 - default",
   "language": "python",
   "name": "py37_default"
  },
  "language_info": {
   "codemirror_mode": {
    "name": "ipython",
    "version": 3
   },
   "file_extension": ".py",
   "mimetype": "text/x-python",
   "name": "python",
   "nbconvert_exporter": "python",
   "pygments_lexer": "ipython3",
   "version": "3.7.7"
  }
 },
 "nbformat": 4,
 "nbformat_minor": 4
}
