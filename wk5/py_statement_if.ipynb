{
 "cells": [
  {
   "cell_type": "markdown",
   "metadata": {},
   "source": [
    "# Robbie Tovar\n",
    "## week5 9/19/24\n",
    "### python statements [if,else,elif]"
   ]
  },
  {
   "cell_type": "markdown",
   "metadata": {},
   "source": [
    "** THE fromat of the if-statment**\n",
    "\n",
    "```\n",
    "\n",
    "if condition:\n",
    "    perform action(s)\n",
    "    \n",
    "    if condition:\n",
    "        perform action(s)\n",
    "    else: \n",
    "        perform action(s)\n",
    "        \n",
    "if condition1\n",
    "    perform action1\n",
    "elif conditon2:\n",
    "    perform action2\n",
    "else:\n",
    "    perform action3\n",
    "```"
   ]
  },
  {
   "cell_type": "code",
   "execution_count": 1,
   "metadata": {},
   "outputs": [
    {
     "name": "stdout",
     "output_type": "stream",
     "text": [
      "Yes,5 is greater than 4!\n"
     ]
    }
   ],
   "source": [
    "# if statement \n",
    "if 5 > 4: \n",
    "    print(\"Yes,5 is greater than 4!\")"
   ]
  },
  {
   "cell_type": "code",
   "execution_count": 2,
   "metadata": {},
   "outputs": [
    {
     "name": "stdout",
     "output_type": "stream",
     "text": [
      "No, 5 is not less than 4\n"
     ]
    }
   ],
   "source": [
    "# using esle \n",
    "if 5< 4:\n",
    "    print(\"yes, 5 is greater than 4!\")\n",
    "else: \n",
    "    print(\"No, 5 is not less than 4\")"
   ]
  },
  {
   "cell_type": "code",
   "execution_count": 3,
   "metadata": {},
   "outputs": [
    {
     "name": "stdout",
     "output_type": "stream",
     "text": [
      "hi five\n"
     ]
    }
   ],
   "source": [
    "value = 5\n",
    "if value ==5:\n",
    "    print(\"hi five\")\n",
    "else: \n",
    "    print('lets try again')"
   ]
  },
  {
   "cell_type": "code",
   "execution_count": 4,
   "metadata": {},
   "outputs": [
    {
     "name": "stdout",
     "output_type": "stream",
     "text": [
      "you may redo test2\n"
     ]
    }
   ],
   "source": [
    "test1 = 98\n",
    "test2 = 87\n",
    "if test1 < test2:\n",
    "    print(\"you may redo test1\")\n",
    "else:\n",
    "    print(\"you may redo test2\")"
   ]
  },
  {
   "cell_type": "code",
   "execution_count": 5,
   "metadata": {},
   "outputs": [],
   "source": [
    "if test1 < test2:\n",
    "    print(\"you may redo test1\")"
   ]
  },
  {
   "cell_type": "code",
   "execution_count": 6,
   "metadata": {},
   "outputs": [
    {
     "name": "stdout",
     "output_type": "stream",
     "text": [
      "test1 score: 1\n",
      "test2 score: 2\n",
      "test1 1 is not greater than test2 2\n",
      "you may think to redo test1\n"
     ]
    }
   ],
   "source": [
    "# if-elif statement \n",
    "test1 = int(input(\"test1 score: \"))\n",
    "test2 = int(input('test2 score: '))\n",
    "\n",
    "if test1 > test2:\n",
    "    print(f\"test1 {test1} is greater than test2 {test2}\")\n",
    "    print(f\"you may think to redo test2 {test2}\")\n",
    "elif test2 > test1: \n",
    "    print(f\"test1 {test1} is not greater than test2 {test2}\")\n",
    "    print(f\"you may think to redo test1\")\n",
    "else:\n",
    "    print(f\"test1 {test1} and test2 {test2} scores are equal \")"
   ]
  },
  {
   "cell_type": "code",
   "execution_count": 7,
   "metadata": {},
   "outputs": [
    {
     "name": "stdout",
     "output_type": "stream",
     "text": [
      "test2 2 is greater than test1 1\n"
     ]
    }
   ],
   "source": [
    "# one lien if statements\n",
    "if test2 > test1 : print(f'test2 {test2} is greater than test1 {test1}')"
   ]
  },
  {
   "cell_type": "code",
   "execution_count": 9,
   "metadata": {},
   "outputs": [
    {
     "name": "stdout",
     "output_type": "stream",
     "text": [
      "310"
     ]
    }
   ],
   "source": [
    "if 'c' in 'cis': print('3',end=''); print('1',end=''); print('0', end='')"
   ]
  },
  {
   "cell_type": "code",
   "execution_count": 11,
   "metadata": {},
   "outputs": [
    {
     "name": "stdout",
     "output_type": "stream",
     "text": [
      "test2 2\n"
     ]
    }
   ],
   "source": [
    "# short hand if else \n",
    "\n",
    "print(f'test1 {test1}') if test1> test2 else print(f\"test2 {test2}\")"
   ]
  },
  {
   "cell_type": "code",
   "execution_count": 16,
   "metadata": {},
   "outputs": [
    {
     "name": "stdout",
     "output_type": "stream",
     "text": [
      "let's head out  to the rec center\n"
     ]
    }
   ],
   "source": [
    "raining = True \n",
    "print(\"let's head out \", \"for a run\" if not raining else 'to the rec center')"
   ]
  },
  {
   "cell_type": "code",
   "execution_count": 17,
   "metadata": {},
   "outputs": [
    {
     "name": "stdout",
     "output_type": "stream",
     "text": [
      "minor\n"
     ]
    }
   ],
   "source": [
    "age = 12\n",
    "print('minor' if age < 21 else 'adult')"
   ]
  },
  {
   "cell_type": "code",
   "execution_count": 28,
   "metadata": {},
   "outputs": [
    {
     "name": "stdout",
     "output_type": "stream",
     "text": [
      "Both conditions are evaluated to True!\n"
     ]
    }
   ],
   "source": [
    "# and, or \n",
    "s1, s2, s3 = 89,75,92\n",
    "if(s1 > s2) and (s3 > s2): \n",
    "    print(\"Both conditions are evaluated to True!\")"
   ]
  },
  {
   "cell_type": "code",
   "execution_count": 21,
   "metadata": {},
   "outputs": [
    {
     "name": "stdout",
     "output_type": "stream",
     "text": [
      "at least one of the conditions is evaluated to true \n"
     ]
    }
   ],
   "source": [
    "# or logical operator \n",
    "if(s1 > s2) or (s3 > s2):\n",
    "    print(\"at least one of the conditions is evaluated to true \")"
   ]
  },
  {
   "cell_type": "code",
   "execution_count": 30,
   "metadata": {},
   "outputs": [
    {
     "name": "stdout",
     "output_type": "stream",
     "text": [
      "s1 is above 40!\n",
      "s1 is above 60!\n",
      "s1 is above 80!\n"
     ]
    }
   ],
   "source": [
    "#Nested if statement \n",
    "if s1> 40:\n",
    "    print('s1 is above 40!')\n",
    "    if s1 > 60:\n",
    "        print('s1 is above 60!')\n",
    "        if s1 > 80:\n",
    "            print(\"s1 is above 80!\")\n",
    "            if s1> 90:\n",
    "                print('s1 is above 90!')\n",
    "            else: \n",
    "                # print('s1 is below 90')\n",
    "                pass\n"
   ]
  },
  {
   "cell_type": "code",
   "execution_count": 32,
   "metadata": {},
   "outputs": [
    {
     "data": {
      "text/plain": [
       "{'Fred': 'hello fred',\n",
       " 'Rama': 'hello rama',\n",
       " 'joe': 'hello joe',\n",
       " 'alice': 'hello alice'}"
      ]
     },
     "execution_count": 32,
     "metadata": {},
     "output_type": "execute_result"
    }
   ],
   "source": [
    "# easy way to use built in function, insead of if statement \n",
    "names = {'Fred': \"hello fred\", 'Rama': 'hello rama', 'joe':'hello joe', 'alice':'hello alice'}\n",
    "names"
   ]
  },
  {
   "cell_type": "code",
   "execution_count": 34,
   "metadata": {},
   "outputs": [
    {
     "name": "stdout",
     "output_type": "stream",
     "text": [
      "hello fred\n"
     ]
    }
   ],
   "source": [
    "print(names['Fred'])"
   ]
  },
  {
   "cell_type": "code",
   "execution_count": 37,
   "metadata": {},
   "outputs": [
    {
     "name": "stdout",
     "output_type": "stream",
     "text": [
      "hello rama\n"
     ]
    }
   ],
   "source": [
    "print(names['Rama'])"
   ]
  },
  {
   "cell_type": "code",
   "execution_count": 38,
   "metadata": {},
   "outputs": [
    {
     "ename": "KeyError",
     "evalue": "'Jen'",
     "output_type": "error",
     "traceback": [
      "\u001b[1;31m---------------------------------------------------------------------------\u001b[0m",
      "\u001b[1;31mKeyError\u001b[0m                                  Traceback (most recent call last)",
      "\u001b[1;32m<ipython-input-38-4c29bd5f122b>\u001b[0m in \u001b[0;36m<module>\u001b[1;34m\u001b[0m\n\u001b[1;32m----> 1\u001b[1;33m \u001b[0mprint\u001b[0m\u001b[1;33m(\u001b[0m\u001b[0mnames\u001b[0m\u001b[1;33m[\u001b[0m\u001b[1;34m'Jen'\u001b[0m\u001b[1;33m]\u001b[0m\u001b[1;33m)\u001b[0m\u001b[1;33m\u001b[0m\u001b[1;33m\u001b[0m\u001b[0m\n\u001b[0m",
      "\u001b[1;31mKeyError\u001b[0m: 'Jen'"
     ]
    }
   ],
   "source": [
    "print(names['Jen'])"
   ]
  },
  {
   "cell_type": "code",
   "execution_count": 39,
   "metadata": {},
   "outputs": [
    {
     "data": {
      "text/plain": [
       "True"
      ]
     },
     "execution_count": 39,
     "metadata": {},
     "output_type": "execute_result"
    }
   ],
   "source": [
    "'joe' in names"
   ]
  },
  {
   "cell_type": "code",
   "execution_count": 40,
   "metadata": {},
   "outputs": [
    {
     "data": {
      "text/plain": [
       "False"
      ]
     },
     "execution_count": 40,
     "metadata": {},
     "output_type": "execute_result"
    }
   ],
   "source": [
    "'jen' in names"
   ]
  },
  {
   "cell_type": "code",
   "execution_count": 42,
   "metadata": {},
   "outputs": [
    {
     "name": "stdout",
     "output_type": "stream",
     "text": [
      "dont know who you are\n"
     ]
    }
   ],
   "source": [
    "print(names['jen'] if 'jen' in names else 'dont know who you are')"
   ]
  },
  {
   "cell_type": "code",
   "execution_count": 43,
   "metadata": {},
   "outputs": [
    {
     "name": "stdout",
     "output_type": "stream",
     "text": [
      "hello joe\n"
     ]
    }
   ],
   "source": [
    "print(names.get('joe'))"
   ]
  },
  {
   "cell_type": "code",
   "execution_count": 44,
   "metadata": {},
   "outputs": [
    {
     "name": "stdout",
     "output_type": "stream",
     "text": [
      "None\n"
     ]
    }
   ],
   "source": [
    "print(names.get('jen'))"
   ]
  },
  {
   "cell_type": "code",
   "execution_count": 46,
   "metadata": {},
   "outputs": [
    {
     "name": "stdout",
     "output_type": "stream",
     "text": [
      "I dont know who you are\n"
     ]
    }
   ],
   "source": [
    "print(names.get('jen', 'I dont know who you are'))"
   ]
  },
  {
   "cell_type": "code",
   "execution_count": 48,
   "metadata": {},
   "outputs": [
    {
     "data": {
      "text/plain": [
       "dict_keys(['Fred', 'Rama', 'joe', 'alice'])"
      ]
     },
     "execution_count": 48,
     "metadata": {},
     "output_type": "execute_result"
    }
   ],
   "source": [
    "names.keys()"
   ]
  },
  {
   "cell_type": "code",
   "execution_count": 50,
   "metadata": {},
   "outputs": [
    {
     "data": {
      "text/plain": [
       "dict_values(['hello fred', 'hello rama', 'hello joe', 'hello alice'])"
      ]
     },
     "execution_count": 50,
     "metadata": {},
     "output_type": "execute_result"
    }
   ],
   "source": [
    "names.values()"
   ]
  },
  {
   "cell_type": "code",
   "execution_count": 51,
   "metadata": {},
   "outputs": [
    {
     "data": {
      "text/plain": [
       "dict_items([('Fred', 'hello fred'), ('Rama', 'hello rama'), ('joe', 'hello joe'), ('alice', 'hello alice')])"
      ]
     },
     "execution_count": 51,
     "metadata": {},
     "output_type": "execute_result"
    }
   ],
   "source": [
    "names.items()"
   ]
  },
  {
   "cell_type": "code",
   "execution_count": 53,
   "metadata": {},
   "outputs": [],
   "source": [
    "t = tuple(names.items())"
   ]
  },
  {
   "cell_type": "code",
   "execution_count": 54,
   "metadata": {},
   "outputs": [
    {
     "data": {
      "text/plain": [
       "(('Fred', 'hello fred'),\n",
       " ('Rama', 'hello rama'),\n",
       " ('joe', 'hello joe'),\n",
       " ('alice', 'hello alice'))"
      ]
     },
     "execution_count": 54,
     "metadata": {},
     "output_type": "execute_result"
    }
   ],
   "source": [
    "t"
   ]
  },
  {
   "cell_type": "code",
   "execution_count": 55,
   "metadata": {},
   "outputs": [
    {
     "data": {
      "text/plain": [
       "False"
      ]
     },
     "execution_count": 55,
     "metadata": {},
     "output_type": "execute_result"
    }
   ],
   "source": [
    "('fred', 'hello fred') in t"
   ]
  },
  {
   "cell_type": "code",
   "execution_count": 56,
   "metadata": {},
   "outputs": [
    {
     "data": {
      "text/plain": [
       "True"
      ]
     },
     "execution_count": 56,
     "metadata": {},
     "output_type": "execute_result"
    }
   ],
   "source": [
    "('joe', 'hello joe') in t"
   ]
  },
  {
   "cell_type": "code",
   "execution_count": 57,
   "metadata": {},
   "outputs": [],
   "source": [
    "lst = list(range(21))\n",
    "lst2 = list(range(20,41))"
   ]
  },
  {
   "cell_type": "code",
   "execution_count": 58,
   "metadata": {},
   "outputs": [
    {
     "data": {
      "text/plain": [
       "[0, 1, 2, 3, 4, 5, 6, 7, 8, 9, 10, 11, 12, 13, 14, 15, 16, 17, 18, 19, 20]"
      ]
     },
     "execution_count": 58,
     "metadata": {},
     "output_type": "execute_result"
    }
   ],
   "source": [
    "lst"
   ]
  },
  {
   "cell_type": "code",
   "execution_count": 59,
   "metadata": {},
   "outputs": [
    {
     "data": {
      "text/plain": [
       "[20,\n",
       " 21,\n",
       " 22,\n",
       " 23,\n",
       " 24,\n",
       " 25,\n",
       " 26,\n",
       " 27,\n",
       " 28,\n",
       " 29,\n",
       " 30,\n",
       " 31,\n",
       " 32,\n",
       " 33,\n",
       " 34,\n",
       " 35,\n",
       " 36,\n",
       " 37,\n",
       " 38,\n",
       " 39,\n",
       " 40]"
      ]
     },
     "execution_count": 59,
     "metadata": {},
     "output_type": "execute_result"
    }
   ],
   "source": [
    "lst2"
   ]
  },
  {
   "cell_type": "code",
   "execution_count": 60,
   "metadata": {},
   "outputs": [],
   "source": [
    "lst1 = list(zip(lst,lst2))"
   ]
  },
  {
   "cell_type": "code",
   "execution_count": 61,
   "metadata": {},
   "outputs": [
    {
     "data": {
      "text/plain": [
       "[(0, 20),\n",
       " (1, 21),\n",
       " (2, 22),\n",
       " (3, 23),\n",
       " (4, 24),\n",
       " (5, 25),\n",
       " (6, 26),\n",
       " (7, 27),\n",
       " (8, 28),\n",
       " (9, 29),\n",
       " (10, 30),\n",
       " (11, 31),\n",
       " (12, 32),\n",
       " (13, 33),\n",
       " (14, 34),\n",
       " (15, 35),\n",
       " (16, 36),\n",
       " (17, 37),\n",
       " (18, 38),\n",
       " (19, 39),\n",
       " (20, 40)]"
      ]
     },
     "execution_count": 61,
     "metadata": {},
     "output_type": "execute_result"
    }
   ],
   "source": [
    "lst1"
   ]
  },
  {
   "cell_type": "code",
   "execution_count": 62,
   "metadata": {},
   "outputs": [
    {
     "data": {
      "text/plain": [
       "False"
      ]
     },
     "execution_count": 62,
     "metadata": {},
     "output_type": "execute_result"
    }
   ],
   "source": [
    "(20,22) in lst1"
   ]
  },
  {
   "cell_type": "code",
   "execution_count": 63,
   "metadata": {},
   "outputs": [
    {
     "data": {
      "text/plain": [
       "True"
      ]
     },
     "execution_count": 63,
     "metadata": {},
     "output_type": "execute_result"
    }
   ],
   "source": [
    "(0,20) in lst1"
   ]
  },
  {
   "cell_type": "code",
   "execution_count": 65,
   "metadata": {},
   "outputs": [
    {
     "data": {
      "text/plain": [
       "True"
      ]
     },
     "execution_count": 65,
     "metadata": {},
     "output_type": "execute_result"
    }
   ],
   "source": [
    "(19, 39) in lst1"
   ]
  },
  {
   "cell_type": "code",
   "execution_count": null,
   "metadata": {},
   "outputs": [],
   "source": []
  }
 ],
 "metadata": {
  "kernelspec": {
   "display_name": "Python 3.7 - default",
   "language": "python",
   "name": "py37_default"
  },
  "language_info": {
   "codemirror_mode": {
    "name": "ipython",
    "version": 3
   },
   "file_extension": ".py",
   "mimetype": "text/x-python",
   "name": "python",
   "nbconvert_exporter": "python",
   "pygments_lexer": "ipython3",
   "version": "3.7.7"
  }
 },
 "nbformat": 4,
 "nbformat_minor": 4
}
