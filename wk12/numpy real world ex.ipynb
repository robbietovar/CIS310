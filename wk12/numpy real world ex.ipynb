{
 "cells": [
  {
   "cell_type": "markdown",
   "metadata": {},
   "source": [
    "# Robbie Tovar\n",
    "# week 12 11/5/24 \n",
    "### python numpy real world exampels"
   ]
  },
  {
   "cell_type": "code",
   "execution_count": 1,
   "metadata": {},
   "outputs": [
    {
     "data": {
      "text/plain": [
       "array([ 64,   8,  27,  87,  81,  51,  81,  23,  64,  88,  26,  81,  64,\n",
       "        28,  53,  71,  95,   2,  76,  88,  27,  85,   7,  33,  45,  85,\n",
       "        15,  63,  87,  86,  13,  49,  41,  77,  61,  46,  20,  87,  93,\n",
       "        66, 100,  84,  46,  55,   5,   8,   5, 100,  44,  48])"
      ]
     },
     "execution_count": 1,
     "metadata": {},
     "output_type": "execute_result"
    }
   ],
   "source": [
    "# computing grades\n",
    "import numpy as np \n",
    "from numpy.random import random\n",
    "\n",
    "scores = np.round(random(50) * 101).astype(int)\n",
    "scores"
   ]
  },
  {
   "cell_type": "code",
   "execution_count": 2,
   "metadata": {},
   "outputs": [
    {
     "data": {
      "text/plain": [
       "54.78"
      ]
     },
     "execution_count": 2,
     "metadata": {},
     "output_type": "execute_result"
    }
   ],
   "source": [
    "np.mean(scores)"
   ]
  },
  {
   "cell_type": "code",
   "execution_count": 3,
   "metadata": {},
   "outputs": [
    {
     "data": {
      "text/plain": [
       "2"
      ]
     },
     "execution_count": 3,
     "metadata": {},
     "output_type": "execute_result"
    }
   ],
   "source": [
    "scores.min()"
   ]
  },
  {
   "cell_type": "code",
   "execution_count": 4,
   "metadata": {},
   "outputs": [
    {
     "data": {
      "text/plain": [
       "100"
      ]
     },
     "execution_count": 4,
     "metadata": {},
     "output_type": "execute_result"
    }
   ],
   "source": [
    "scores.max()"
   ]
  },
  {
   "cell_type": "code",
   "execution_count": 5,
   "metadata": {},
   "outputs": [
    {
     "data": {
      "text/plain": [
       "29.687229577715733"
      ]
     },
     "execution_count": 5,
     "metadata": {},
     "output_type": "execute_result"
    }
   ],
   "source": [
    "np.std(scores)"
   ]
  },
  {
   "cell_type": "code",
   "execution_count": 6,
   "metadata": {},
   "outputs": [
    {
     "data": {
      "text/plain": [
       "array([ 87,  81,  81,  88,  81,  71,  95,  76,  88,  85,  85,  87,  86,\n",
       "        77,  87,  93, 100,  84, 100])"
      ]
     },
     "execution_count": 6,
     "metadata": {},
     "output_type": "execute_result"
    }
   ],
   "source": [
    "scores[scores>70]"
   ]
  },
  {
   "cell_type": "code",
   "execution_count": 7,
   "metadata": {},
   "outputs": [
    {
     "data": {
      "text/plain": [
       "19"
      ]
     },
     "execution_count": 7,
     "metadata": {},
     "output_type": "execute_result"
    }
   ],
   "source": [
    "len(scores[scores>70])"
   ]
  },
  {
   "cell_type": "code",
   "execution_count": 8,
   "metadata": {},
   "outputs": [
    {
     "data": {
      "text/plain": [
       "array([ 86,  87,  87,  87,  88,  88,  93,  95, 100, 100])"
      ]
     },
     "execution_count": 8,
     "metadata": {},
     "output_type": "execute_result"
    }
   ],
   "source": [
    "#find n largest scores \n",
    "n =10\n",
    "scores.sort()\n",
    "scores[-n::]"
   ]
  },
  {
   "cell_type": "code",
   "execution_count": 9,
   "metadata": {},
   "outputs": [
    {
     "name": "stdout",
     "output_type": "stream",
     "text": [
      "slope=9.999999999999996, and intercept = 39.999999999999986\n"
     ]
    }
   ],
   "source": [
    "#linear regression \n",
    "# y= a+bx\n",
    "x = np.array([1,2,3,4,5,6])\n",
    "y = np.array([50,60,70,80,90,100])\n",
    "\n",
    "slope, intercept = np.polyfit(x,y,1)\n",
    "print(f'slope={slope}, and intercept = {intercept}')"
   ]
  },
  {
   "cell_type": "code",
   "execution_count": 10,
   "metadata": {},
   "outputs": [
    {
     "name": "stdout",
     "output_type": "stream",
     "text": [
      "year 1: $10500.00\n",
      "year 2: $11025.00\n",
      "year 3: $11576.25\n",
      "year 4: $12155.06\n",
      "year 5: $12762.82\n",
      "year 6: $13400.96\n",
      "year 7: $14071.00\n",
      "year 8: $14774.55\n",
      "year 9: $15513.28\n",
      "year 10: $16288.95\n"
     ]
    }
   ],
   "source": [
    "#financial calcul;ations \n",
    "#calculating the future value of an investment \n",
    "initial_investment = 10000\n",
    "annual_interest_rate = .05\n",
    "years = np.arange(1,11)\n",
    "future_value = initial_investment * (1 + annual_interest_rate)**years\n",
    "for year, value in zip(years, future_value):\n",
    "    print(f'year {year}: ${value:.2f}')"
   ]
  },
  {
   "cell_type": "code",
   "execution_count": 11,
   "metadata": {},
   "outputs": [
    {
     "name": "stdout",
     "output_type": "stream",
     "text": [
      "0.062000000000000006\n"
     ]
    }
   ],
   "source": [
    "# portfolio optimization \n",
    "returns = np.array([.07, .05]) # excpect retuersn from each asset in portfoilios\n",
    "weights = np.array([.6,.4]) # weightrs of each asset in portflio\n",
    "portfolio_return = np.dot(returns, weights)\n",
    "print(portfolio_return)"
   ]
  },
  {
   "cell_type": "code",
   "execution_count": 12,
   "metadata": {},
   "outputs": [
    {
     "name": "stdout",
     "output_type": "stream",
     "text": [
      "[1 0 0 1 1 1 0 1 1 1 0 0 0 1 0]\n",
      "[1 0 0 0 1 0 1 0 0 0 0 1 0 0 1]\n"
     ]
    }
   ],
   "source": [
    "#health care\n",
    "# the effectivness of treatment by comparing pateint outcomes\n",
    "sample = [0,1] #1 - success, 0 failure\n",
    "\n",
    "group1 = np.random.choice(sample, 15)\n",
    "print(group1)\n",
    "group2 = np.random.choice(sample, 15)\n",
    "print(group2)"
   ]
  },
  {
   "cell_type": "code",
   "execution_count": 13,
   "metadata": {},
   "outputs": [
    {
     "name": "stdout",
     "output_type": "stream",
     "text": [
      "success rate for group 1 0.5333333333333333\n",
      "success rate for group 2 0.3333333333333333\n"
     ]
    }
   ],
   "source": [
    "success_1 = np.mean(group1)\n",
    "success_2 = np.mean(group2)\n",
    "print(f'success rate for group 1 {success_1}')\n",
    "print(f'success rate for group 2 {success_2}')"
   ]
  },
  {
   "cell_type": "code",
   "execution_count": 14,
   "metadata": {},
   "outputs": [
    {
     "name": "stdout",
     "output_type": "stream",
     "text": [
      "Mean: 10.16 and standard devation 0.2154065922853802\n"
     ]
    }
   ],
   "source": [
    "#scientific notation\n",
    "n = np.array([10.1,10.5,9.9,10.3,10.0])\n",
    "\n",
    "mean_measurement = np.mean(n)\n",
    "std_measurement = np.std(n)\n",
    "\n",
    "print(f'Mean: {mean_measurement} and standard devation {std_measurement}')"
   ]
  },
  {
   "cell_type": "code",
   "execution_count": 15,
   "metadata": {},
   "outputs": [
    {
     "ename": "NameError",
     "evalue": "name 'image' is not defined",
     "output_type": "error",
     "traceback": [
      "\u001b[1;31m---------------------------------------------------------------------------\u001b[0m",
      "\u001b[1;31mNameError\u001b[0m                                 Traceback (most recent call last)",
      "\u001b[1;32m<ipython-input-15-bdeb5b844f5b>\u001b[0m in \u001b[0;36m<module>\u001b[1;34m\u001b[0m\n\u001b[0;32m      6\u001b[0m \u001b[1;33m\u001b[0m\u001b[0m\n\u001b[0;32m      7\u001b[0m \u001b[1;33m\u001b[0m\u001b[0m\n\u001b[1;32m----> 8\u001b[1;33m \u001b[0mimages\u001b[0m\u001b[1;33m=\u001b[0m \u001b[0mnp\u001b[0m\u001b[1;33m.\u001b[0m\u001b[0marray\u001b[0m\u001b[1;33m(\u001b[0m\u001b[0mimage\u001b[0m\u001b[1;33m.\u001b[0m\u001b[0mopen\u001b[0m\u001b[1;33m(\u001b[0m\u001b[1;34m'c://users/anaconda/downloads/python.jpg'\u001b[0m\u001b[1;33m)\u001b[0m\u001b[1;33m)\u001b[0m\u001b[1;33m\u001b[0m\u001b[1;33m\u001b[0m\u001b[0m\n\u001b[0m\u001b[0;32m      9\u001b[0m \u001b[0mprint\u001b[0m\u001b[1;33m(\u001b[0m\u001b[0mimages\u001b[0m\u001b[1;33m)\u001b[0m\u001b[1;33m\u001b[0m\u001b[1;33m\u001b[0m\u001b[0m\n\u001b[0;32m     10\u001b[0m \u001b[0mprint\u001b[0m\u001b[1;33m(\u001b[0m\u001b[0mimages\u001b[0m\u001b[1;33m.\u001b[0m\u001b[0mndim\u001b[0m\u001b[1;33m)\u001b[0m\u001b[1;33m\u001b[0m\u001b[1;33m\u001b[0m\u001b[0m\n",
      "\u001b[1;31mNameError\u001b[0m: name 'image' is not defined"
     ]
    }
   ],
   "source": [
    "# image processing\n",
    "\n",
    "import matplotlib.pyplot as plt\n",
    "\n",
    "from PIL import Image\n",
    "\n",
    "\n",
    "images= np.array(image.open('c://users/anaconda/downloads/python.jpg'))\n",
    "print(images)\n",
    "print(images.ndim)\n",
    "print(images.shape)\n",
    "\n",
    "#convert to gray scale\n",
    "gray_image = np.dat(image[...:3],[0.2989,.5870,.1140])\n"
   ]
  },
  {
   "cell_type": "code",
   "execution_count": null,
   "metadata": {},
   "outputs": [],
   "source": [
    "import numpy as np\n",
    "import matplotlib.pyplot as plt\n",
    "from PIL import Image\n",
    "\n",
    "#open image\n",
    "image = np.array(Image.open('c:/users/anaconda/downloads/python.jpg'))\n",
    "\n",
    "#print image information\n",
    "print(image)\n",
    "print(f'Number of dimesnsions: {image.ndim}')\n",
    "print(f'Shape of the image: [image.shape]')\n",
    "\n",
    "#Optionally, display the image\n",
    "plt.imshow(image)\n",
    "plt.axis('off') # hide axes for better view\n",
    "plt.show()"
   ]
  },
  {
   "cell_type": "code",
   "execution_count": null,
   "metadata": {},
   "outputs": [],
   "source": []
  }
 ],
 "metadata": {
  "kernelspec": {
   "display_name": "Python 3.7 - default",
   "language": "python",
   "name": "py37_default"
  },
  "language_info": {
   "codemirror_mode": {
    "name": "ipython",
    "version": 3
   },
   "file_extension": ".py",
   "mimetype": "text/x-python",
   "name": "python",
   "nbconvert_exporter": "python",
   "pygments_lexer": "ipython3",
   "version": "3.7.7"
  }
 },
 "nbformat": 4,
 "nbformat_minor": 4
}
