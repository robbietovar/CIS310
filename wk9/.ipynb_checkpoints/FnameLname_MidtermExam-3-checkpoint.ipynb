{
 "cells": [
  {
   "cell_type": "markdown",
   "metadata": {},
   "source": [
    "# Instructions:\n",
    "\n",
    "1) Rename this .ipynb file with your first and last name\n",
    "\n",
    "2) Complete the exam info form\n",
    "\n",
    "3) Answer all the questions\n",
    "\n",
    "4) Upload this file into Canvas as your submisison file\n",
    "\n",
    "**Do not upload/push this file into your GitHub account**"
   ]
  },
  {
   "cell_type": "markdown",
   "metadata": {},
   "source": [
    "# Complete the file info form:\n",
    "\n",
    "Your Full Name: Robbie Tovar\n",
    "\n",
    "Your CSU ID: 835356138\n",
    "\n",
    "Date: 10/17/2024\n"
   ]
  },
  {
   "cell_type": "markdown",
   "metadata": {},
   "source": [
    "## Q1: \n",
    "(Submit for 3 points) Prompt the user for the number of cups of lemon juice, water, and agave nectar needed to make lemonade. Prompt the user to specify the number of servings the recipe yields. Output the ingredients and serving size.\n",
    "\n",
    "**Sample Input/Output**\n",
    "\n",
    "Enter amount of lemon juice (in cups):\n",
    "\n",
    "2\n",
    "\n",
    "Enter amount of water (in cups):\n",
    "\n",
    "16\n",
    "\n",
    "Enter amount of agave nectar (in cups):\n",
    "\n",
    "2.5\n",
    "\n",
    "How many servings does this make?\n",
    "\n",
    "6\n",
    "\n",
    "Lemonade ingredients - yields 6.00 servings\n",
    "\n",
    "2.00 cup(s) lemon juice\n",
    "\n",
    "16.00 cup(s) water\n",
    "\n",
    "2.50 cup(s) agave nectar\n",
    "\n",
    "**Hint:**\n",
    "\n",
    "- Output each floating-point value with two digits after the decimal point, which can be achieved as follows: print('{:.2f}'.format(your_value))\n",
    "\n",
    "- Use the built input() function to receive input from the user\n",
    "\n",
    "- Use either str.format or f-String method in the print statment to provide the desired output format\n"
   ]
  },
  {
   "cell_type": "code",
   "execution_count": 9,
   "metadata": {},
   "outputs": [
    {
     "ename": "SyntaxError",
     "evalue": "invalid syntax (<ipython-input-9-17c2998d1aff>, line 10)",
     "output_type": "error",
     "traceback": [
      "\u001b[1;36m  File \u001b[1;32m\"<ipython-input-9-17c2998d1aff>\"\u001b[1;36m, line \u001b[1;32m10\u001b[0m\n\u001b[1;33m    print(\"Enter the amount of water (in cups)::.2f\".format(water)\u001b[0m\n\u001b[1;37m        ^\u001b[0m\n\u001b[1;31mSyntaxError\u001b[0m\u001b[1;31m:\u001b[0m invalid syntax\n"
     ]
    }
   ],
   "source": [
    "#Q1 Anaswer - complete the following code\n",
    "\n",
    "# Prompt user to inputs \n",
    "Lemon_juice = float(input())\n",
    "water = int(input())\n",
    "agave_nectar = int(input())\n",
    "how_many_servings = int(input())\n",
    "\n",
    "print(\"Enter the amount of lemon juice (in cups)::.2f\".format(Lemon_juice)\n",
    "print(\"Enter the amount of water (in cups)::.2f\".format(water)\n",
    "print(\"Enter the amount of agave nectar (in cups)::.2f\".format(Lagave_nectar)\n",
    "print(\"How many servings does this make?:.2f\".format(how_many_servings)\n",
    "# Finish reading other items into variables, then output the three ingrdients - water_cups, sugar_cups, serving_size\n",
    "   \n",
    "print(f'Lemonade ingredients - yields {how_many_servings} servings')\n",
    "print(f'{Lemon_juice} cup(s) lemon juice')\n",
    "print(f'{water} cup(s) of water')\n",
    "print(f'{agave_nectar} cup(s) of agave nectar')\n",
    "   "
   ]
  },
  {
   "cell_type": "markdown",
   "metadata": {},
   "source": [
    "## Q2 \n",
    "\n",
    "(Submit for 3 points) Write a python code that calculates the cost of painting a wall, the cost depends on the number of gallons (and the paint color price) that are needed to cover the wall area.\n",
    "\n",
    "**Sample Input/Output**\n",
    "\n",
    "Enter wall height (feet):\n",
    "\n",
    "12\n",
    "\n",
    "Enter wall width (feet):\n",
    "\n",
    "15\n",
    "\n",
    "Wall area: 180 square feet\n",
    "\n",
    "Paint needed: 0.51 gallons\n",
    "\n",
    "Cans needed: 1 can(s)\n",
    "\n",
    "\n",
    "Choose a color to paint the wall:\n",
    "\n",
    "red\n",
    "\n",
    "Cost of purchasing red paint: $35\n",
    "\n",
    "\n",
    "**Hint:**\n",
    "\n",
    "- Use the built input() function to receive input from the user\n",
    "\n",
    "\n",
    "\n",
    "\n",
    "\n"
   ]
  },
  {
   "cell_type": "code",
   "execution_count": 13,
   "metadata": {},
   "outputs": [
    {
     "ename": "SyntaxError",
     "evalue": "invalid syntax (<ipython-input-13-99f256168681>, line 13)",
     "output_type": "error",
     "traceback": [
      "\u001b[1;36m  File \u001b[1;32m\"<ipython-input-13-99f256168681>\"\u001b[1;36m, line \u001b[1;32m13\u001b[0m\n\u001b[1;33m    wall_height = int(\"Enter wall Height\":()\u001b[0m\n\u001b[1;37m                                         ^\u001b[0m\n\u001b[1;31mSyntaxError\u001b[0m\u001b[1;31m:\u001b[0m invalid syntax\n"
     ]
    }
   ],
   "source": [
    "#Q2 Answer - Complete the following code \n",
    "\n",
    "import math\n",
    "\n",
    "# Dictionary of paint colors and cost per gallon\n",
    "paint_colors = {\n",
    "   'red': 35,\n",
    "   'blue': 25,\n",
    "   'green': 23\n",
    "}\n",
    "\n",
    "# Prompt user to input wall's width and height, wall_height and wall_width \n",
    "wall_height = int(input())\n",
    "wall_width = int(input())\n",
    "\n",
    "# Calculate and output wall area - wall_area\n",
    "wall_area = wall_height * wall_width\n",
    "\n",
    "   \n",
    "# Calculate and output the amount of paint in gallons needed to paint the wall _ gallons_needed\n",
    "#  Assume a gallon of paint covers 350 square feet. Store this value in a variable. Output the amount of paint needed using the %f conversion specifier.\n",
    "wall_gallons_needed = wall_area / 350\n",
    "\n",
    "# Calculate and output the number of 1 gallon cans needed to paint the wall, rounded up to nearest integer - cans_needed\n",
    "# Use a math function of math.ceil() to round up to the nearest gallon. \n",
    "cans_needed = math.celi(wall_gallons_needed)\n",
    "\n",
    "\n",
    "# Calculate and output the total cost of paint can needed depending on color - wall_color\n",
    "# Use a dictionary to associate each paint color with its respective cost. \n",
    "#Red paint costs $35 per gallon can, blue paint costs $25 per gallon can, and green paint costs $23 per gallon can. \n",
    "wall_color = {'Red':'35', 'blue': '25', 'green':'23'}\n",
    "total_cost = wall_color * cans_needed\n"
   ]
  },
  {
   "cell_type": "markdown",
   "metadata": {},
   "source": [
    "## Q3\n",
    "\n",
    "(Submit for 3 points) Given three integers between 1 and 11, if their sum is less than or equal to 21, return their sum. If their sum exceeds 21 and there's an eleven, reduce the total sum by 10. Finally, if the sum (even after adjustment) exceeds 21, return 'BUST'.\n",
    "\n",
    "blackjack(5,6,7) --> 18\n",
    "\n",
    "blackjack(9,9,9) --> 'BUST'\n",
    "\n",
    "blackjack(9,9,11) --> 19\n",
    "\n",
    "**Hint:**\n",
    "\n",
    "- You can use the sum() function to get the sum of the numbers\n"
   ]
  },
  {
   "cell_type": "code",
   "execution_count": 6,
   "metadata": {},
   "outputs": [],
   "source": [
    "#Q3 Answer - Complete the following code\n",
    "def blackjack(a,b,c):\n",
    "    # Complete the code of the function\n",
    "    if(a+b+c > 21):\n",
    "        print('bust')\n",
    "    else: \n",
    "        return sum\n",
    "        \n",
    "    \n",
    "    \n",
    "# call the function to test with the following data: 5,6,8 or 9,9,9, or 9,9,11,, etc \n",
    "\n"
   ]
  },
  {
   "cell_type": "markdown",
   "metadata": {},
   "source": [
    "## Q4\n",
    "\n",
    "(Submit for 3 points) Assume that we have a list of tuples for people information, (First Name, Last Name, Month and Day of birth) as follows:\n",
    "\n",
    "<code> people = [(\"Michele\", \"Vallisneri\", \"July 15\"),\n",
    "          (\"Albert\", \"Einstein\", \"March 14\"),\n",
    "          (\"John\", \"Lennon\", \"October 9\"),\n",
    "          (\"Jocelyn\", \"Bell Burnell\", \"July 15\")] <code/>\n",
    "    \n",
    "\n",
    "\n",
    "Use list comperhension to find out the people who have the same Month and Day of birth, such as:\n",
    "\n",
    "\n",
    "\n",
    "<code>[('Michele', 'Vallisneri', 'July 15'), ('Jocelyn', 'Bell Burnell', 'July 15')]<code/>.\n",
    "    \n",
    "    \n",
    "**Hint:**\n",
    "    \n",
    "- Use the list comprehension expression to answer this question: <code> new_list = [expression for member in iterable (if conditional)] <code/>\n",
    " "
   ]
  },
  {
   "cell_type": "code",
   "execution_count": 7,
   "metadata": {},
   "outputs": [],
   "source": [
    "#Q4 Answer - Complete the following code\n",
    "new_list = [people for ]\n",
    "\n",
    "\n",
    "#check your answer"
   ]
  },
  {
   "cell_type": "markdown",
   "metadata": {},
   "source": [
    "# Q5\n",
    "\n",
    "(Submit for 3 points) Assume that we have the following list of dictionaries for the book information:\n",
    "\n",
    "<code> \n",
    "    books = [ {\"Title\":\"Angels and Demons\", \"Author\":\"Dan Brown\", \"Price\":500},\n",
    "              {\"Title\":\"Gone Girl\", \"Author\":\"Gillian Flynn\", \"Price\":730},\n",
    "              {\"Title\":\"The Silent Patient\", \"Author\":\"Alex Michaelidis\", \"Price\":945},\n",
    "              {\"Title\":\"Before I Go To Sleep\", \"Author\":\"S.J Watson\", \"Price\":400} ] <code/>\n",
    "    \n",
    "    \n",
    "Use **lambda** and higher order function **map()** to generate a new list with the book titles that are smaller than 800, word 'None' otherwise,  such as  \n",
    "\n",
    "\n",
    "<code> new_books = ['Angels and Demons', 'Gone Girl', 'None', 'Before I Go To Sleep'] <code/>\n",
    "    \n",
    "\n",
    "**Hint:**\n",
    "\n",
    "- Use the map() function with lambda inside it to create the list of the new_books: <code > map(lambda arguments : expression , books) <code/>"
   ]
  },
  {
   "cell_type": "code",
   "execution_count": 21,
   "metadata": {},
   "outputs": [
    {
     "ename": "SyntaxError",
     "evalue": "unexpected EOF while parsing (<ipython-input-21-6b50623f3946>, line 6)",
     "output_type": "error",
     "traceback": [
      "\u001b[1;36m  File \u001b[1;32m\"<ipython-input-21-6b50623f3946>\"\u001b[1;36m, line \u001b[1;32m6\u001b[0m\n\u001b[1;33m    \u001b[0m\n\u001b[1;37m    ^\u001b[0m\n\u001b[1;31mSyntaxError\u001b[0m\u001b[1;31m:\u001b[0m unexpected EOF while parsing\n"
     ]
    }
   ],
   "source": [
    "#Q5 Answer - Complete the following code\n",
    "new_book = (map(lambda Price: Price<800,books)\n",
    "\n",
    "\n",
    "#check your answer\n",
    "            "
   ]
  },
  {
   "cell_type": "code",
   "execution_count": null,
   "metadata": {},
   "outputs": [],
   "source": []
  }
 ],
 "metadata": {
  "kernelspec": {
   "display_name": "Python 3",
   "language": "python",
   "name": "python3"
  },
  "language_info": {
   "codemirror_mode": {
    "name": "ipython",
    "version": 3
   },
   "file_extension": ".py",
   "mimetype": "text/x-python",
   "name": "python",
   "nbconvert_exporter": "python",
   "pygments_lexer": "ipython3",
   "version": "3.7.7"
  }
 },
 "nbformat": 4,
 "nbformat_minor": 2
}
